{
 "cells": [
  {
   "cell_type": "code",
   "execution_count": 1,
   "metadata": {},
   "outputs": [
    {
     "name": "stderr",
     "output_type": "stream",
     "text": [
      "INFO:     Started server process [9736]\n",
      "INFO:     Waiting for application startup.\n",
      "INFO:     Application startup complete.\n",
      "INFO:     Uvicorn running on http://127.0.0.1:8000 (Press CTRL+C to quit)\n"
     ]
    },
    {
     "name": "stdout",
     "output_type": "stream",
     "text": [
      "INFO:     127.0.0.1:50312 - \"GET / HTTP/1.1\" 200 OK\n"
     ]
    },
    {
     "name": "stderr",
     "output_type": "stream",
     "text": [
      "INFO:     Shutting down\n",
      "INFO:     Waiting for application shutdown.\n",
      "INFO:     Application shutdown complete.\n",
      "INFO:     Finished server process [9736]\n"
     ]
    }
   ],
   "source": [
    "from fastapi import FastAPI\n",
    "\n",
    "app = FastAPI()\n",
    "\n",
    "\n",
    "@app.get(path=\"/\")\n",
    "async def root():\n",
    "    return {\"message\": \"Hello World :D\"}\n",
    "\n",
    "\n",
    "if __name__ == \"__main__\":\n",
    "    import uvicorn\n",
    "\n",
    "    config = uvicorn.Config(app=app)\n",
    "    server = uvicorn.Server(config=config)\n",
    "    await server.serve()"
   ]
  },
  {
   "cell_type": "code",
   "execution_count": null,
   "metadata": {},
   "outputs": [
    {
     "name": "stderr",
     "output_type": "stream",
     "text": [
      "INFO:     Started server process [12924]\n",
      "INFO:     Waiting for application startup.\n",
      "INFO:     Application startup complete.\n",
      "INFO:     Uvicorn running on http://127.0.0.1:8000 (Press CTRL+C to quit)\n"
     ]
    },
    {
     "name": "stdout",
     "output_type": "stream",
     "text": [
      "INFO:     127.0.0.1:50557 - \"GET / HTTP/1.1\" 404 Not Found\n",
      "INFO:     127.0.0.1:50561 - \"GET /docs HTTP/1.1\" 200 OK\n",
      "INFO:     127.0.0.1:50561 - \"GET /openapi.json HTTP/1.1\" 200 OK\n"
     ]
    },
    {
     "name": "stderr",
     "output_type": "stream",
     "text": [
      "INFO:     Shutting down\n",
      "INFO:     Waiting for application shutdown.\n",
      "INFO:     Application shutdown complete.\n",
      "INFO:     Finished server process [12924]\n"
     ]
    }
   ],
   "source": [
    "from fastapi import FastAPI, HTTPException\n",
    "from pydantic import BaseModel, EmailStr\n",
    "\n",
    "app = FastAPI()\n",
    "\n",
    "class User(BaseModel):\n",
    "    name: str\n",
    "    age: int\n",
    "    email: EmailStr\n",
    "\n",
    "@app.post(\"/users/\")\n",
    "async def create_user(user: User):\n",
    "    if user.age < 18:\n",
    "        raise HTTPException(status_code=400, detail=\"Age must be greater than or equal to 18\")\n",
    "\n",
    "    # Without a database, we can simply return the user data\n",
    "    return {\"message\": \"User created successfully\", \"user\": user.dict()}\n",
    "\n",
    "if __name__ == \"__main__\":\n",
    "    import uvicorn\n",
    "\n",
    "    config = uvicorn.Config(app=app)\n",
    "    server = uvicorn.Server(config=config)\n",
    "    await server.serve()"
   ]
  },
  {
   "cell_type": "code",
   "execution_count": 3,
   "metadata": {},
   "outputs": [
    {
     "name": "stderr",
     "output_type": "stream",
     "text": [
      "INFO:     Started server process [12924]\n",
      "INFO:     Waiting for application startup.\n",
      "INFO:     Application startup complete.\n",
      "INFO:     Uvicorn running on http://127.0.0.1:8000 (Press CTRL+C to quit)\n",
      "INFO:     Shutting down\n",
      "INFO:     Waiting for application shutdown.\n",
      "INFO:     Application shutdown complete.\n",
      "INFO:     Finished server process [12924]\n"
     ]
    }
   ],
   "source": [
    "from typing import List\n",
    "from pydantic import BaseModel\n",
    "from fastapi import FastAPI, HTTPException\n",
    "\n",
    "app = FastAPI()\n",
    "\n",
    "class Book(BaseModel):\n",
    "    id: int\n",
    "    title: str\n",
    "    author: str\n",
    "    published_year: int\n",
    "\n",
    "books_db = []\n",
    "\n",
    "@app.post(\"/books\")\n",
    "async def create_book(book: Book):\n",
    "    books_db.append(book)\n",
    "    return {\"message\": \"Book added successfully\", \"book\": book}\n",
    "\n",
    "@app.get(\"/books/{id}\")\n",
    "async def get_book(id: int):\n",
    "    for book in books_db:\n",
    "        if book.id == id:\n",
    "            return book\n",
    "    raise HTTPException(status_code=404, detail=\"Book not found\")\n",
    "\n",
    "@app.put(\"/books/{id}\")\n",
    "async def update_book(id: int, book: Book):\n",
    "    for index, existing_book in enumerate(books_db):\n",
    "        if existing_book.id == id:\n",
    "            books_db[index] = book\n",
    "            return {\"message\": \"Book updated\", \"book\": book}\n",
    "    raise HTTPException(status_code=404, detail=\"Book not found\")\n",
    "\n",
    "@app.delete(\"/books/{id}\")\n",
    "async def delete_book(id: int):\n",
    "    for index, book in enumerate(books_db):\n",
    "        if book.id == id:\n",
    "            books_db.pop(index)\n",
    "            return {\"message\": \"Book deleted\"}\n",
    "    raise HTTPException(status_code=404, detail=\"Book not found\")\n",
    "\n",
    "if __name__ == \"__main__\":\n",
    "    import uvicorn\n",
    "\n",
    "    config = uvicorn.Config(app=app)\n",
    "    server = uvicorn.Server(config=config)\n",
    "    await server.serve()"
   ]
  },
  {
   "cell_type": "code",
   "execution_count": null,
   "metadata": {},
   "outputs": [
    {
     "name": "stdout",
     "output_type": "stream",
     "text": [
      "{'id': 1, 'title': 'spider man', 'author': 'marvel', 'published_year': 2004}\n"
     ]
    }
   ],
   "source": [
    "import requests\n",
    "\n",
    "url = \"http://127.0.0.1:8000/books/1\"\n",
    "\n",
    "response = requests.get(url)\n",
    "\n",
    "if response.status_code == 200:\n",
    "    print(response.json())\n",
    "else:\n",
    "    print(\"Request failed with status code:\", response.status_code)"
   ]
  }
 ],
 "metadata": {
  "kernelspec": {
   "display_name": "Python 3",
   "language": "python",
   "name": "python3"
  },
  "language_info": {
   "codemirror_mode": {
    "name": "ipython",
    "version": 3
   },
   "file_extension": ".py",
   "mimetype": "text/x-python",
   "name": "python",
   "nbconvert_exporter": "python",
   "pygments_lexer": "ipython3",
   "version": "3.11.8"
  }
 },
 "nbformat": 4,
 "nbformat_minor": 2
}
